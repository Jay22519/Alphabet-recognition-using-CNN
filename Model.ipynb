{
 "cells": [
  {
   "cell_type": "markdown",
   "metadata": {},
   "source": [
    "### Importing Libraries "
   ]
  },
  {
   "cell_type": "code",
   "execution_count": 1,
   "metadata": {},
   "outputs": [],
   "source": [
    "import numpy as np \n",
    "import pandas as pd \n",
    "import matplotlib.pyplot as plt \n",
    "%matplotlib inline"
   ]
  },
  {
   "cell_type": "code",
   "execution_count": 2,
   "metadata": {},
   "outputs": [],
   "source": [
    "import cv2\n",
    "import numpy as np\n",
    "import pandas as pd\n",
    "import seaborn as sns\n",
    "import matplotlib.pyplot as plt"
   ]
  },
  {
   "cell_type": "code",
   "execution_count": 3,
   "metadata": {},
   "outputs": [],
   "source": [
    "from tensorflow.keras.preprocessing.image import ImageDataGenerator"
   ]
  },
  {
   "cell_type": "code",
   "execution_count": 4,
   "metadata": {},
   "outputs": [],
   "source": [
    "import random"
   ]
  },
  {
   "cell_type": "code",
   "execution_count": 5,
   "metadata": {},
   "outputs": [],
   "source": [
    "from sklearn.preprocessing import LabelBinarizer\n",
    "from sklearn.model_selection import train_test_split\n",
    "from sklearn.metrics import classification_report,confusion_matrix\n",
    "from sklearn.metrics import accuracy_score\n",
    "from sklearn.metrics import precision_score\n",
    "from sklearn.metrics import recall_score\n",
    "from sklearn.metrics import f1_score\n",
    "\n",
    "import tensorflow as tf \n",
    "import tensorflow.keras\n",
    "from tensorflow.keras.utils import to_categorical\n",
    "from tensorflow.keras.optimizers import Adam\n",
    "from tensorflow.keras.models import Sequential\n",
    "from tensorflow.keras.layers import Dense, Conv2D , MaxPool2D , Flatten , Dropout , BatchNormalization"
   ]
  },
  {
   "cell_type": "code",
   "execution_count": 6,
   "metadata": {},
   "outputs": [],
   "source": [
    "from numpy import unravel_index\n",
    "import os"
   ]
  },
  {
   "cell_type": "code",
   "execution_count": null,
   "metadata": {},
   "outputs": [],
   "source": []
  },
  {
   "cell_type": "markdown",
   "metadata": {},
   "source": [
    "### Taking input of 75 image for each alphabet   "
   ]
  },
  {
   "cell_type": "code",
   "execution_count": 7,
   "metadata": {},
   "outputs": [],
   "source": [
    "data = pd.read_csv(\"D:/Aplhabet Recognition/archive/A_Z Handwritten Data.csv\")"
   ]
  },
  {
   "cell_type": "markdown",
   "metadata": {},
   "source": [
    "###### data_div[i] will store i<sup>th</sup> alphabet  "
   ]
  },
  {
   "cell_type": "code",
   "execution_count": 8,
   "metadata": {},
   "outputs": [],
   "source": [
    "data_div = [0 for i in range(26)]"
   ]
  },
  {
   "cell_type": "code",
   "execution_count": 9,
   "metadata": {},
   "outputs": [
    {
     "name": "stdout",
     "output_type": "stream",
     "text": [
      "Wall time: 5.2 s\n"
     ]
    }
   ],
   "source": [
    "%%time \n",
    "grouped = data.groupby(data['0'])\n",
    "for i in range(26) :\n",
    "    data_div[i] = grouped.get_group(i)"
   ]
  },
  {
   "cell_type": "markdown",
   "metadata": {},
   "source": [
    "#### Splitting data into X(feature matrix) and y(output value)  "
   ]
  },
  {
   "cell_type": "code",
   "execution_count": 10,
   "metadata": {},
   "outputs": [
    {
     "name": "stdout",
     "output_type": "stream",
     "text": [
      "Wall time: 893 ms\n"
     ]
    }
   ],
   "source": [
    "%%time \n",
    "\n",
    "y_div = [0 for i in range(26)] \n",
    "for i in range(26) :\n",
    "    data_div[i] = data_div[i].sample(n = 75)\n",
    "    y_div[i] = data_div[i]['0']\n",
    "    del data_div[i]['0']"
   ]
  },
  {
   "cell_type": "markdown",
   "metadata": {},
   "source": [
    "### Now we'll use data augmentation to create 150 images of each alphabet "
   ]
  },
  {
   "cell_type": "code",
   "execution_count": 11,
   "metadata": {},
   "outputs": [],
   "source": [
    "def get_idg() :\n",
    "    idg = ImageDataGenerator(\n",
    "    rotation_range=random.randint(0,10),\n",
    "    zoom_range = random.uniform(0,0.5), \n",
    "    fill_mode='constant', cval=255\n",
    "    )\n",
    "    \n",
    "    return idg \n",
    "\n",
    "def get_idg_no() :\n",
    "    idg = ImageDataGenerator(\n",
    "    rotation_range= 0 \n",
    "    )\n",
    "    \n",
    "    return idg"
   ]
  },
  {
   "cell_type": "code",
   "execution_count": 12,
   "metadata": {},
   "outputs": [
    {
     "name": "stdout",
     "output_type": "stream",
     "text": [
      "0\n",
      "1\n",
      "2\n",
      "3\n",
      "4\n",
      "5\n",
      "6\n",
      "7\n",
      "8\n",
      "9\n",
      "10\n",
      "11\n",
      "12\n",
      "13\n",
      "14\n",
      "15\n",
      "16\n",
      "17\n",
      "18\n",
      "19\n",
      "20\n",
      "21\n",
      "22\n",
      "23\n",
      "24\n",
      "25\n",
      "Wall time: 740 ms\n"
     ]
    }
   ],
   "source": [
    "%%time\n",
    "\n",
    "image_data_aug  = [0 for i in range(26)] \n",
    "y_data_aug = [0 for i in range(26)] \n",
    "\n",
    "for i in range(26) :\n",
    "    a ,ya = get_idg_no().flow(data_div[i].values.reshape(len(data_div[i]),28,28,1), y_div[i],batch_size=75).next()\n",
    "    b , yb = get_idg().flow(data_div[i].values.reshape(len(data_div[i]),28,28,1), y_div[i],batch_size=75).next()\n",
    "    #print(a.shape)\n",
    "    a = a.reshape(75,28*28)\n",
    "    b = b.reshape(75,28*28)\n",
    "    a = pd.DataFrame(a)\n",
    "    b = pd.DataFrame(b)\n",
    "    ya = pd.DataFrame(ya)\n",
    "    yb = pd.DataFrame(yb)\n",
    "    #print(a)\n",
    "    aug_2 = (a,b)\n",
    "    y_data_aug[i] = [y_div[i] for j in range(2)]\n",
    "    #print(aug_4_y)\n",
    "    image_data_aug[i] =  pd.concat(aug_2, ignore_index = True)\n",
    "    y_data_aug[i] = pd.concat(y_data_aug[i]  ,ignore_index = True)\n",
    "    #print(y_data_aug[i])\n",
    "    \n",
    "    print(i)"
   ]
  },
  {
   "cell_type": "code",
   "execution_count": 13,
   "metadata": {},
   "outputs": [
    {
     "data": {
      "text/plain": [
       "<matplotlib.image.AxesImage at 0x22101e1c9a0>"
      ]
     },
     "execution_count": 13,
     "metadata": {},
     "output_type": "execute_result"
    },
    {
     "data": {
      "image/png": "[encoded data removed]",
      "text/plain": [
       "<Figure size 432x288 with 1 Axes>"
      ]
     },
     "metadata": {
      "needs_background": "light"
     },
     "output_type": "display_data"
    }
   ],
   "source": [
    "i_plot = image_data_aug[1].loc[1,:]\n",
    "i_plot = np.array(i_plot)\n",
    "plt.imshow(i_plot.reshape(28,28),cmap = 'gray')"
   ]
  },
  {
   "cell_type": "code",
   "execution_count": null,
   "metadata": {},
   "outputs": [],
   "source": []
  },
  {
   "cell_type": "markdown",
   "metadata": {},
   "source": [
    "### Training and Saving my Model  "
   ]
  },
  {
   "cell_type": "code",
   "execution_count": 14,
   "metadata": {},
   "outputs": [],
   "source": [
    "pd_data = [0 for i in range(26)]\n",
    "y_data = [0 for i in range(26)]\n",
    "\n",
    "for i in range(26) :\n",
    "    pd_data[i] = image_data_aug[i]\n",
    "    y_data[i]  = y_data_aug[i]"
   ]
  },
  {
   "cell_type": "code",
   "execution_count": 15,
   "metadata": {},
   "outputs": [],
   "source": [
    "X = pd.concat(pd_data)\n",
    "y = pd.concat(y_data)"
   ]
  },
  {
   "cell_type": "code",
   "execution_count": 16,
   "metadata": {},
   "outputs": [],
   "source": [
    "X = np.array(X)\n",
    "y = np.array(y)"
   ]
  },
  {
   "cell_type": "code",
   "execution_count": 17,
   "metadata": {},
   "outputs": [],
   "source": [
    "\"\"\"\n",
    "Splitting data into train and test \n",
    "\"\"\"\n",
    "\n",
    "X_train, X_test, y_train, y_test = train_test_split(X, y, test_size=0.2, stratify= y, shuffle=True)"
   ]
  },
  {
   "cell_type": "code",
   "execution_count": 18,
   "metadata": {},
   "outputs": [],
   "source": [
    "X_train = X_train.reshape(-1,28,28,1)\n",
    "\n",
    "X_test = X = X_test.reshape(-1,28,28,1)\n",
    "y_train = tf.keras.utils.to_categorical(y_train)\n",
    "y_test = tf.keras.utils.to_categorical(y_test)"
   ]
  },
  {
   "cell_type": "code",
   "execution_count": 19,
   "metadata": {},
   "outputs": [],
   "source": [
    "def my_model(width,height,channel) :\n",
    "    model = Sequential()\n",
    "    \n",
    "    model.add(Conv2D(filters = 32, kernel_size = (5,5),padding = 'Same', activation ='relu', input_shape = (width,height,channel)))\n",
    "    model.add(BatchNormalization())\n",
    "    model.add(Conv2D(filters = 32, kernel_size = (3,3),padding = 'Same', activation ='relu'))\n",
    "    model.add(BatchNormalization())\n",
    "    model.add(MaxPool2D(pool_size=(2,2)))\n",
    "    model.add(Dropout(0.20))\n",
    "    \n",
    "    model.add(Conv2D(filters = 64, kernel_size = (3,3),padding = 'Same', activation ='relu'))\n",
    "    model.add(BatchNormalization())\n",
    "    model.add(Conv2D(filters = 64, kernel_size = (3,3),padding = 'Same', activation ='relu'))\n",
    "    model.add(BatchNormalization())\n",
    "    model.add(Conv2D(filters = 64, kernel_size = (3,3),padding = 'Same', activation ='relu'))\n",
    "    model.add(BatchNormalization())\n",
    "    model.add(MaxPool2D(pool_size=(2,2), strides=(2,2)))\n",
    "    model.add(Dropout(0.20)) \n",
    "    \n",
    "    model.add(Conv2D(filters = 128, kernel_size = (3,3),padding = 'Same', activation ='relu'))\n",
    "    model.add(BatchNormalization())\n",
    "    model.add(Conv2D(filters = 128, kernel_size = (3,3),padding = 'Same', activation ='relu'))\n",
    "    model.add(BatchNormalization())\n",
    "    model.add(Conv2D(filters = 128, kernel_size = (3,3),padding = 'Same', activation ='relu'))\n",
    "    model.add(BatchNormalization())\n",
    "    model.add(MaxPool2D(pool_size=(2,2), strides=(2,2)))\n",
    "    model.add(Dropout(0.20)) \n",
    "    \n",
    "    \n",
    "    model.add(Flatten())\n",
    "    model.add(Dense(512, activation = \"relu\"))\n",
    "    model.add(BatchNormalization())\n",
    "    model.add(Dropout(0.25))\n",
    "\n",
    "    model.add(Dense(26, activation = \"softmax\"))\n",
    "    \n",
    "    \n",
    "    return model"
   ]
  },
  {
   "cell_type": "code",
   "execution_count": null,
   "metadata": {},
   "outputs": [],
   "source": []
  },
  {
   "cell_type": "code",
   "execution_count": 20,
   "metadata": {},
   "outputs": [],
   "source": [
    "model = my_model(28,28,1)"
   ]
  },
  {
   "cell_type": "code",
   "execution_count": 21,
   "metadata": {},
   "outputs": [
    {
     "name": "stdout",
     "output_type": "stream",
     "text": [
      "Wall time: 45.5 ms\n"
     ]
    }
   ],
   "source": [
    "%%time \n",
    "\n",
    "model.compile(optimizer='adamax', loss = 'categorical_crossentropy', metrics=['accuracy'])"
   ]
  },
  {
   "cell_type": "code",
   "execution_count": 22,
   "metadata": {},
   "outputs": [],
   "source": [
    "checkpoint_path = \"my_model.ckpt\"\n",
    "checkpoint_dir = os.path.dirname(checkpoint_path)\n",
    "# Create a callback that saves the model's weights\n",
    "cp_callback = tf.keras.callbacks.ModelCheckpoint(filepath=checkpoint_path,\n",
    "                                                 save_weights_only=True,\n",
    "                                                 verbose=1)"
   ]
  },
  {
   "cell_type": "markdown",
   "metadata": {},
   "source": [
    "### Note\n",
    "\n",
    "<h5> The Hyperparameters we are using in training the model are tuned after checking with various values </h5>"
   ]
  },
  {
   "cell_type": "code",
   "execution_count": null,
   "metadata": {},
   "outputs": [],
   "source": []
  },
  {
   "cell_type": "code",
   "execution_count": 23,
   "metadata": {},
   "outputs": [
    {
     "name": "stdout",
     "output_type": "stream",
     "text": [
      "Epoch 1/25\n",
      "49/49 [==============================] - 18s 349ms/step - loss: 3.4798 - accuracy: 0.1477 - val_loss: 2.7428 - val_accuracy: 0.1885\n",
      "\n",
      "Epoch 00001: saving model to my_model.ckpt\n",
      "Epoch 2/25\n",
      "49/49 [==============================] - 15s 305ms/step - loss: 1.4736 - accuracy: 0.5454 - val_loss: 1.6966 - val_accuracy: 0.5897\n",
      "\n",
      "Epoch 00002: saving model to my_model.ckpt\n",
      "Epoch 3/25\n",
      "49/49 [==============================] - 13s 265ms/step - loss: 0.8551 - accuracy: 0.7387 - val_loss: 1.0345 - val_accuracy: 0.7590\n",
      "\n",
      "Epoch 00003: saving model to my_model.ckpt\n",
      "Epoch 4/25\n",
      "49/49 [==============================] - 15s 302ms/step - loss: 0.5682 - accuracy: 0.8265 - val_loss: 0.6138 - val_accuracy: 0.8308\n",
      "\n",
      "Epoch 00004: saving model to my_model.ckpt\n",
      "Epoch 5/25\n",
      "49/49 [==============================] - 13s 268ms/step - loss: 0.4283 - accuracy: 0.8677 - val_loss: 0.3826 - val_accuracy: 0.8974\n",
      "\n",
      "Epoch 00005: saving model to my_model.ckpt\n",
      "Epoch 6/25\n",
      "49/49 [==============================] - 13s 274ms/step - loss: 0.3380 - accuracy: 0.8881 - val_loss: 0.3104 - val_accuracy: 0.9103\n",
      "\n",
      "Epoch 00006: saving model to my_model.ckpt\n",
      "Epoch 7/25\n",
      "49/49 [==============================] - 13s 266ms/step - loss: 0.2576 - accuracy: 0.9240 - val_loss: 0.2439 - val_accuracy: 0.9218\n",
      "\n",
      "Epoch 00007: saving model to my_model.ckpt\n",
      "Epoch 8/25\n",
      "49/49 [==============================] - 13s 261ms/step - loss: 0.2289 - accuracy: 0.9336 - val_loss: 0.2013 - val_accuracy: 0.9359\n",
      "\n",
      "Epoch 00008: saving model to my_model.ckpt\n",
      "Epoch 9/25\n",
      "49/49 [==============================] - 13s 257ms/step - loss: 0.1856 - accuracy: 0.9436 - val_loss: 0.1744 - val_accuracy: 0.9474\n",
      "\n",
      "Epoch 00009: saving model to my_model.ckpt\n",
      "Epoch 10/25\n",
      "49/49 [==============================] - 13s 263ms/step - loss: 0.1548 - accuracy: 0.9596 - val_loss: 0.1693 - val_accuracy: 0.9462\n",
      "\n",
      "Epoch 00010: saving model to my_model.ckpt\n",
      "Epoch 11/25\n",
      "49/49 [==============================] - 13s 268ms/step - loss: 0.1310 - accuracy: 0.9668 - val_loss: 0.1505 - val_accuracy: 0.9513\n",
      "\n",
      "Epoch 00011: saving model to my_model.ckpt\n",
      "Epoch 12/25\n",
      "49/49 [==============================] - 13s 268ms/step - loss: 0.0969 - accuracy: 0.9746 - val_loss: 0.1460 - val_accuracy: 0.9462\n",
      "\n",
      "Epoch 00012: saving model to my_model.ckpt\n",
      "Epoch 13/25\n",
      "49/49 [==============================] - 13s 266ms/step - loss: 0.1100 - accuracy: 0.9706 - val_loss: 0.1299 - val_accuracy: 0.9513\n",
      "\n",
      "Epoch 00013: saving model to my_model.ckpt\n",
      "Epoch 14/25\n",
      "49/49 [==============================] - 13s 261ms/step - loss: 0.0822 - accuracy: 0.9802 - val_loss: 0.1154 - val_accuracy: 0.9603\n",
      "\n",
      "Epoch 00014: saving model to my_model.ckpt\n",
      "Epoch 15/25\n",
      "49/49 [==============================] - 12s 253ms/step - loss: 0.0800 - accuracy: 0.9830 - val_loss: 0.1225 - val_accuracy: 0.9577\n",
      "\n",
      "Epoch 00015: saving model to my_model.ckpt\n",
      "Epoch 16/25\n",
      "49/49 [==============================] - 13s 269ms/step - loss: 0.0716 - accuracy: 0.9795 - val_loss: 0.1003 - val_accuracy: 0.9705\n",
      "\n",
      "Epoch 00016: saving model to my_model.ckpt\n",
      "Epoch 17/25\n",
      "49/49 [==============================] - 15s 317ms/step - loss: 0.0589 - accuracy: 0.9916 - val_loss: 0.1091 - val_accuracy: 0.9641\n",
      "\n",
      "Epoch 00017: saving model to my_model.ckpt\n",
      "Epoch 18/25\n",
      "49/49 [==============================] - 14s 282ms/step - loss: 0.0567 - accuracy: 0.9830 - val_loss: 0.0918 - val_accuracy: 0.9718\n",
      "\n",
      "Epoch 00018: saving model to my_model.ckpt\n",
      "Epoch 19/25\n",
      "49/49 [==============================] - 14s 280ms/step - loss: 0.0511 - accuracy: 0.9888 - val_loss: 0.0990 - val_accuracy: 0.9705\n",
      "\n",
      "Epoch 00019: saving model to my_model.ckpt\n",
      "Epoch 20/25\n",
      "49/49 [==============================] - 14s 277ms/step - loss: 0.0519 - accuracy: 0.9897 - val_loss: 0.0969 - val_accuracy: 0.9679\n",
      "\n",
      "Epoch 00020: saving model to my_model.ckpt\n",
      "Epoch 21/25\n",
      "49/49 [==============================] - 13s 263ms/step - loss: 0.0482 - accuracy: 0.9887 - val_loss: 0.0916 - val_accuracy: 0.9692\n",
      "\n",
      "Epoch 00021: saving model to my_model.ckpt\n",
      "Epoch 22/25\n",
      "49/49 [==============================] - 13s 260ms/step - loss: 0.0428 - accuracy: 0.9911 - val_loss: 0.0862 - val_accuracy: 0.9769\n",
      "\n",
      "Epoch 00022: saving model to my_model.ckpt\n",
      "Epoch 23/25\n",
      "49/49 [==============================] - 13s 253ms/step - loss: 0.0409 - accuracy: 0.9906 - val_loss: 0.0893 - val_accuracy: 0.9718\n",
      "\n",
      "Epoch 00023: saving model to my_model.ckpt\n",
      "Epoch 24/25\n",
      "49/49 [==============================] - 13s 262ms/step - loss: 0.0337 - accuracy: 0.9928 - val_loss: 0.0922 - val_accuracy: 0.9692\n",
      "\n",
      "Epoch 00024: saving model to my_model.ckpt\n",
      "Epoch 25/25\n",
      "49/49 [==============================] - 13s 267ms/step - loss: 0.0392 - accuracy: 0.9912 - val_loss: 0.0817 - val_accuracy: 0.9769\n",
      "\n",
      "Epoch 00025: saving model to my_model.ckpt\n"
     ]
    }
   ],
   "source": [
    "history = model.fit(X_train, y_train, validation_data=(X_test, y_test), epochs=25, batch_size=64, shuffle=True,callbacks=[cp_callback])"
   ]
  },
  {
   "cell_type": "code",
   "execution_count": null,
   "metadata": {},
   "outputs": [],
   "source": []
  },
  {
   "cell_type": "markdown",
   "metadata": {},
   "source": [
    "### Plotting Loss and Accuracy vs Epoch  "
   ]
  },
  {
   "cell_type": "code",
   "execution_count": 24,
   "metadata": {},
   "outputs": [
    {
     "data": {
      "image/png": "[encoded data removed]",
      "text/plain": [
       "<Figure size 432x288 with 2 Axes>"
      ]
     },
     "metadata": {
      "needs_background": "light"
     },
     "output_type": "display_data"
    }
   ],
   "source": [
    "fig, ax = plt.subplots(2,1)\n",
    "ax[0].plot(history.history['loss'], color='b', label=\"Training loss\")\n",
    "ax[0].plot(history.history['val_loss'], color='r', label=\"validation loss\",axes =ax[0])\n",
    "legend = ax[0].legend(loc='best', shadow=True)\n",
    "\n",
    "ax[1].plot(history.history['accuracy'], color='b', label=\"Training accuracy\")\n",
    "ax[1].plot(history.history['val_accuracy'], color='r',label=\"Validation accuracy\")\n",
    "legend = ax[1].legend(loc='best', shadow=True)"
   ]
  },
  {
   "cell_type": "markdown",
   "metadata": {},
   "source": [
    "##### Predicting Class  "
   ]
  },
  {
   "cell_type": "code",
   "execution_count": 29,
   "metadata": {},
   "outputs": [
    {
     "data": {
      "text/plain": [
       "(array([7], dtype=int64), 7)"
      ]
     },
     "execution_count": 29,
     "metadata": {},
     "output_type": "execute_result"
    }
   ],
   "source": [
    "model.predict_classes(X_test[:1]) , np.argmax(y_test[:1])"
   ]
  },
  {
   "cell_type": "code",
   "execution_count": 35,
   "metadata": {},
   "outputs": [
    {
     "data": {
      "text/plain": [
       "(array([[0., 0., 0., 0., 0., 0., 0., 1., 0., 0., 0., 0., 0., 0., 0., 0.,\n",
       "         0., 0., 0., 0., 0., 0., 0., 0., 0., 0.],\n",
       "        [0., 0., 0., 0., 0., 0., 0., 0., 0., 0., 0., 0., 0., 0., 0., 0.,\n",
       "         0., 0., 0., 0., 0., 0., 1., 0., 0., 0.]], dtype=float32),\n",
       " array([[0., 0., 0., 0., 0., 0., 0., 1., 0., 0., 0., 0., 0., 0., 0., 0.,\n",
       "         0., 0., 0., 0., 0., 0., 0., 0., 0., 0.],\n",
       "        [0., 0., 0., 0., 0., 0., 0., 0., 0., 0., 0., 0., 0., 0., 0., 0.,\n",
       "         0., 0., 0., 0., 0., 0., 1., 0., 0., 0.]], dtype=float32))"
      ]
     },
     "execution_count": 35,
     "metadata": {},
     "output_type": "execute_result"
    }
   ],
   "source": [
    "np.round(model.predict(X_test[:2]),0) , y_test[:2]"
   ]
  },
  {
   "cell_type": "code",
   "execution_count": null,
   "metadata": {},
   "outputs": [],
   "source": []
  },
  {
   "cell_type": "markdown",
   "metadata": {},
   "source": [
    "###### Evaluting Model  "
   ]
  },
  {
   "cell_type": "code",
   "execution_count": 30,
   "metadata": {},
   "outputs": [
    {
     "name": "stdout",
     "output_type": "stream",
     "text": [
      "25/25 [==============================] - 1s 21ms/step - loss: 0.0817 - accuracy: 0.9769\n"
     ]
    },
    {
     "data": {
      "text/plain": [
       "[0.08171017467975616, 0.9769230484962463]"
      ]
     },
     "execution_count": 30,
     "metadata": {},
     "output_type": "execute_result"
    }
   ],
   "source": [
    "model.evaluate(X_test , y_test)"
   ]
  },
  {
   "cell_type": "code",
   "execution_count": null,
   "metadata": {},
   "outputs": [],
   "source": []
  },
  {
   "cell_type": "markdown",
   "metadata": {},
   "source": [
    "###  Calculating recall , accuracy , precision and f1 score  "
   ]
  },
  {
   "cell_type": "code",
   "execution_count": 31,
   "metadata": {},
   "outputs": [],
   "source": [
    "from sklearn.metrics import accuracy_score, classification_report, confusion_matrix"
   ]
  },
  {
   "cell_type": "code",
   "execution_count": 34,
   "metadata": {},
   "outputs": [
    {
     "name": "stdout",
     "output_type": "stream",
     "text": [
      "25/25 [==============================] - 1s 20ms/step - loss: 0.0817 - accuracy: 0.9769\n",
      "0.9769230484962463\n"
     ]
    }
   ],
   "source": [
    "accuracy = model.evaluate(X_test, y_test)[1]\n",
    "print(accuracy)"
   ]
  },
  {
   "cell_type": "code",
   "execution_count": 36,
   "metadata": {},
   "outputs": [],
   "source": [
    "y_pred = np.round(model.predict(X_test),0) \n",
    "y_actual = y_test"
   ]
  },
  {
   "cell_type": "code",
   "execution_count": 41,
   "metadata": {},
   "outputs": [
    {
     "data": {
      "text/plain": [
       "0.9769230484962463"
      ]
     },
     "execution_count": 41,
     "metadata": {},
     "output_type": "execute_result"
    }
   ],
   "source": [
    "accuracy "
   ]
  },
  {
   "cell_type": "code",
   "execution_count": 38,
   "metadata": {},
   "outputs": [
    {
     "name": "stdout",
     "output_type": "stream",
     "text": [
      "              precision    recall  f1-score   support\n",
      "\n",
      "           0       1.00      1.00      1.00        30\n",
      "           1       1.00      0.93      0.97        30\n",
      "           2       1.00      1.00      1.00        30\n",
      "           3       1.00      1.00      1.00        30\n",
      "           4       0.97      1.00      0.98        30\n",
      "           5       1.00      0.97      0.98        30\n",
      "           6       1.00      1.00      1.00        30\n",
      "           7       0.94      1.00      0.97        30\n",
      "           8       0.94      1.00      0.97        30\n",
      "           9       1.00      0.97      0.98        30\n",
      "          10       0.93      0.90      0.92        30\n",
      "          11       1.00      1.00      1.00        30\n",
      "          12       1.00      1.00      1.00        30\n",
      "          13       0.97      1.00      0.98        30\n",
      "          14       0.91      1.00      0.95        30\n",
      "          15       1.00      0.97      0.98        30\n",
      "          16       0.97      0.97      0.97        30\n",
      "          17       1.00      0.93      0.97        30\n",
      "          18       1.00      0.93      0.97        30\n",
      "          19       1.00      1.00      1.00        30\n",
      "          20       1.00      0.97      0.98        30\n",
      "          21       1.00      0.97      0.98        30\n",
      "          22       1.00      0.93      0.97        30\n",
      "          23       0.94      1.00      0.97        30\n",
      "          24       0.97      0.97      0.97        30\n",
      "          25       1.00      0.97      0.98        30\n",
      "\n",
      "   micro avg       0.98      0.98      0.98       780\n",
      "   macro avg       0.98      0.98      0.98       780\n",
      "weighted avg       0.98      0.98      0.98       780\n",
      " samples avg       0.98      0.98      0.98       780\n",
      "\n"
     ]
    },
    {
     "name": "stderr",
     "output_type": "stream",
     "text": [
      "D:\\Anaconda\\lib\\site-packages\\sklearn\\metrics\\_classification.py:1221: UndefinedMetricWarning: Precision and F-score are ill-defined and being set to 0.0 in samples with no predicted labels. Use `zero_division` parameter to control this behavior.\n",
      "  _warn_prf(average, modifier, msg_start, len(result))\n"
     ]
    }
   ],
   "source": [
    "print(classification_report(y_actual, y_pred))"
   ]
  },
  {
   "cell_type": "code",
   "execution_count": null,
   "metadata": {},
   "outputs": [],
   "source": []
  },
  {
   "cell_type": "code",
   "execution_count": null,
   "metadata": {},
   "outputs": [],
   "source": []
  },
  {
   "cell_type": "code",
   "execution_count": null,
   "metadata": {},
   "outputs": [],
   "source": []
  }
 ],
 "metadata": {
  "kernelspec": {
   "display_name": "Python 3",
   "language": "python",
   "name": "python3"
  },
  "language_info": {
   "codemirror_mode": {
    "name": "ipython",
    "version": 3
   },
   "file_extension": ".py",
   "mimetype": "text/x-python",
   "name": "python",
   "nbconvert_exporter": "python",
   "pygments_lexer": "ipython3",
   "version": "3.8.3"
  }
 },
 "nbformat": 4,
 "nbformat_minor": 4
}
